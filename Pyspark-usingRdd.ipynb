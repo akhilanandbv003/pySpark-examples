{
 "cells": [
  {
   "cell_type": "code",
   "execution_count": 5,
   "metadata": {},
   "outputs": [],
   "source": [
    "from pyspark import *\n",
    "from pyspark.sql import SparkSession"
   ]
  },
  {
   "cell_type": "code",
   "execution_count": 18,
   "metadata": {},
   "outputs": [
    {
     "data": {
      "text/html": [
       "\n",
       "            <div>\n",
       "                <p><b>SparkSession - hive</b></p>\n",
       "                \n",
       "        <div>\n",
       "            <p><b>SparkContext</b></p>\n",
       "\n",
       "            <p><a href=\"http://192.168.1.78:4040\">Spark UI</a></p>\n",
       "\n",
       "            <dl>\n",
       "              <dt>Version</dt>\n",
       "                <dd><code>v2.4.2</code></dd>\n",
       "              <dt>Master</dt>\n",
       "                <dd><code>local[*]</code></dd>\n",
       "              <dt>AppName</dt>\n",
       "                <dd><code>PySparkShell</code></dd>\n",
       "            </dl>\n",
       "        </div>\n",
       "        \n",
       "            </div>\n",
       "        "
      ],
      "text/plain": [
       "<pyspark.sql.session.SparkSession at 0x103cde860>"
      ]
     },
     "execution_count": 18,
     "metadata": {},
     "output_type": "execute_result"
    }
   ],
   "source": [
    "spark"
   ]
  },
  {
   "cell_type": "code",
   "execution_count": 7,
   "metadata": {},
   "outputs": [],
   "source": [
    "sc= spark.sparkContext\n"
   ]
  },
  {
   "cell_type": "code",
   "execution_count": 8,
   "metadata": {},
   "outputs": [
    {
     "name": "stdout",
     "output_type": "stream",
     "text": [
      "['b', 'a', 'c']\n"
     ]
    }
   ],
   "source": [
    "x = sc.parallelize([\"b\", \"a\", \"c\"])\n",
    "print(x.collect())  \n"
   ]
  },
  {
   "cell_type": "code",
   "execution_count": 9,
   "metadata": {},
   "outputs": [
    {
     "name": "stdout",
     "output_type": "stream",
     "text": [
      "[('b', 1), ('a', 1), ('c', 1)]\n"
     ]
    }
   ],
   "source": [
    "y = x.map(lambda z: (z, 1))\n",
    "print(y.collect()) \n"
   ]
  },
  {
   "cell_type": "code",
   "execution_count": 10,
   "metadata": {},
   "outputs": [
    {
     "name": "stdout",
     "output_type": "stream",
     "text": [
      "[1, 3]\n"
     ]
    }
   ],
   "source": [
    "#Write a code to get only odd numbers.\n",
    "x = sc.parallelize([1,2,3])\n",
    "odd = x.filter(lambda num:num % 2 !=0)\n",
    "print(odd.collect()) "
   ]
  },
  {
   "cell_type": "code",
   "execution_count": 11,
   "metadata": {},
   "outputs": [
    {
     "name": "stdout",
     "output_type": "stream",
     "text": [
      "[1, 100, 42, 2, 200, 42, 3, 300, 42]\n"
     ]
    }
   ],
   "source": [
    "# Return a new RDD by first applying a function \n",
    "# to all elements of this RDD, and then flattening the results\n",
    "# Input: [1,2,3]\n",
    "# Output: [1, 100, 42, 2, 200, 42, 3, 300, 42]\n",
    "\n",
    "x = sc.parallelize([1,2,3])\n",
    "flattened = x.flatMap(lambda num:(num,num*100,42))\n",
    "print(flattened.collect()) "
   ]
  },
  {
   "cell_type": "code",
   "execution_count": 12,
   "metadata": {},
   "outputs": [
    {
     "data": {
      "text/plain": [
       "[('J', ['John', 'James']), ('A', ['Anna']), ('F', ['Fred'])]"
      ]
     },
     "execution_count": 12,
     "metadata": {},
     "output_type": "execute_result"
    }
   ],
   "source": [
    "# Write a code to group the data by the first letter.\n",
    "# Input: ['John', 'Fred', 'Anna', 'James']\n",
    "x = sc.parallelize(['John', 'Fred', 'Anna', 'James'])\n",
    "grouped = x.groupBy(lambda word:word[0])\n",
    "grouped.mapValues(list).collect()"
   ]
  },
  {
   "cell_type": "code",
   "execution_count": 13,
   "metadata": {},
   "outputs": [
    {
     "name": "stdout",
     "output_type": "stream",
     "text": [
      "[('B', 5), ('B', 4), ('A', 3), ('A', 2), ('A', 1)]\n"
     ]
    },
    {
     "data": {
      "text/plain": [
       "[('A', [3, 2, 1]), ('B', [5, 4])]"
      ]
     },
     "execution_count": 13,
     "metadata": {},
     "output_type": "execute_result"
    }
   ],
   "source": [
    "# Write a code to group the data pair by Key.\n",
    "# Input: [('B', 5),('B', 4),('A', 3),('A', 2),('A', 1)]\n",
    "x = sc.parallelize([('B', 5),('B', 4),('A', 3),('A', 2),('A', 1)])\n",
    "print(x.collect()) \n",
    "groupedByKey = x.groupByKey()\n",
    "# print(groupedByKey.collect()) \n",
    "# [('A', <pyspark.resultiterable.ResultIterable object at 0x7f10832cd400>)\n",
    "groupedByKey.mapValues(list).collect()"
   ]
  },
  {
   "cell_type": "code",
   "execution_count": 14,
   "metadata": {},
   "outputs": [
    {
     "data": {
      "text/plain": [
       "10"
      ]
     },
     "execution_count": 14,
     "metadata": {},
     "output_type": "execute_result"
    }
   ],
   "source": [
    "# Write a code to sum given numbers. Input: [1, 2, 3, 4]\n",
    "x=sc.parallelize([1, 2, 3, 4])\n",
    "x.sum()"
   ]
  },
  {
   "cell_type": "code",
   "execution_count": 15,
   "metadata": {},
   "outputs": [
    {
     "name": "stdout",
     "output_type": "stream",
     "text": [
      "[('A', 6), ('B', 9)]\n"
     ]
    }
   ],
   "source": [
    "# Write a code to Add all the data in a group .\n",
    "# Input: [('B', 5),('B', 4),('A', 3),('A', 2),('A', 1)]\n",
    "# Output : [('A', 6), ('B', 9)]\n",
    "x = sc.parallelize([('B', 5),('B', 4),('A', 3),('A', 2),('A', 1)])\n",
    "groupedSum = x.reduceByKey(lambda accum , num : accum + num)\n",
    "print(groupedSum.collect())\n"
   ]
  },
  {
   "cell_type": "code",
   "execution_count": null,
   "metadata": {},
   "outputs": [],
   "source": []
  }
 ],
 "metadata": {
  "kernelspec": {
   "display_name": "Python 3",
   "language": "python",
   "name": "python3"
  },
  "language_info": {
   "codemirror_mode": {
    "name": "ipython",
    "version": 3
   },
   "file_extension": ".py",
   "mimetype": "text/x-python",
   "name": "python",
   "nbconvert_exporter": "python",
   "pygments_lexer": "ipython3",
   "version": "3.6.8"
  }
 },
 "nbformat": 4,
 "nbformat_minor": 2
}
