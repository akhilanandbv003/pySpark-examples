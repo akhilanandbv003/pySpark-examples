{
 "cells": [
  {
   "cell_type": "code",
   "execution_count": 2,
   "metadata": {},
   "outputs": [],
   "source": [
    "from pyspark.sql.functions import *\n",
    "from pyspark.sql.types import *\n"
   ]
  },
  {
   "cell_type": "code",
   "execution_count": 17,
   "metadata": {},
   "outputs": [
    {
     "name": "stdout",
     "output_type": "stream",
     "text": [
      "Collecting pyreadline\n",
      "\u001b[?25l  Downloading https://files.pythonhosted.org/packages/bc/7c/d724ef1ec3ab2125f38a1d53285745445ec4a8f19b9bb0761b4064316679/pyreadline-2.1.zip (109kB)\n",
      "\u001b[K     |████████████████████████████████| 112kB 1.4MB/s eta 0:00:01\n",
      "\u001b[?25hInstalling collected packages: pyreadline\n",
      "  Running setup.py install for pyreadline ... \u001b[?25ldone\n",
      "\u001b[?25hSuccessfully installed pyreadline-2.1\n"
     ]
    }
   ],
   "source": [
    "!pip install pyreadline"
   ]
  },
  {
   "cell_type": "code",
   "execution_count": 3,
   "metadata": {},
   "outputs": [],
   "source": [
    "employees = spark.read.csv(\"HR_employess.csv\",header=True)\n",
    "employees = employees.withColumn(\"SALARY\",employees[\"SALARY\"].cast(DoubleType()))\n"
   ]
  },
  {
   "cell_type": "code",
   "execution_count": 30,
   "metadata": {},
   "outputs": [
    {
     "name": "stdout",
     "output_type": "stream",
     "text": [
      "+-------------+--------------------+----------+-----------+\n",
      "|DEPARTMENT_ID|     DEPARTMENT_NAME|MANAGER_ID|LOCATION_ID|\n",
      "+-------------+--------------------+----------+-----------+\n",
      "|           10|      Administration|       200|       1700|\n",
      "|           20|           Marketing|       201|       1800|\n",
      "|           30|          Purchasing|       114|       1700|\n",
      "|           40|     Human Resources|       203|       2400|\n",
      "|           50|            Shipping|       121|       1500|\n",
      "|           60|                  IT|       103|       1400|\n",
      "|           70|    Public Relations|       204|       2700|\n",
      "|           80|               Sales|       145|       2500|\n",
      "|           90|           Executive|       100|       1700|\n",
      "|          100|             Finance|       108|       1700|\n",
      "|          110|          Accounting|       205|       1700|\n",
      "|          120|            Treasury|      null|       1700|\n",
      "|          130|       Corporate Tax|      null|       1700|\n",
      "|          140|  Control And Credit|      null|       1700|\n",
      "|          150|Shareholder Services|      null|       1700|\n",
      "|          160|            Benefits|      null|       1700|\n",
      "|          170|       Manufacturing|      null|       1700|\n",
      "|          180|        Construction|      null|       1700|\n",
      "|          190|         Contracting|      null|       1700|\n",
      "|          200|          Operations|      null|       1700|\n",
      "+-------------+--------------------+----------+-----------+\n",
      "only showing top 20 rows\n",
      "\n"
     ]
    }
   ],
   "source": [
    "departments = spark.read.csv(\"HR_departments.csv\",header=True)\n",
    "departments.show()"
   ]
  },
  {
   "cell_type": "code",
   "execution_count": 18,
   "metadata": {},
   "outputs": [
    {
     "name": "stdout",
     "output_type": "stream",
     "text": [
      "+-----------+----------+---------+--------+------------+-------------------+-------+-------+--------------+----------+-------------+\n",
      "|EMPLOYEE_ID|FIRST_NAME|LAST_NAME|   EMAIL|PHONE_NUMBER|          HIRE_DATE| JOB_ID| SALARY|COMMISSION_PCT|MANAGER_ID|DEPARTMENT_ID|\n",
      "+-----------+----------+---------+--------+------------+-------------------+-------+-------+--------------+----------+-------------+\n",
      "|        100|    Steven|     King|   SKING|515.123.4567|1987-06-17 00:00:00|AD_PRES|24000.0|          null|      null|           90|\n",
      "|        101|     Neena|  Kochhar|NKOCHHAR|515.123.4568|1989-09-21 00:00:00|  AD_VP|17000.0|          null|       100|           90|\n",
      "|        102|       Lex|  De Haan| LDEHAAN|515.123.4569|1993-01-13 00:00:00|  AD_VP|17000.0|          null|       100|           90|\n",
      "|        103| Alexander|   Hunold| AHUNOLD|590.423.4567|1990-01-03 00:00:00|IT_PROG| 9000.0|          null|       102|           60|\n",
      "|        104|     Bruce|    Ernst|  BERNST|590.423.4568|1991-05-21 00:00:00|IT_PROG| 6000.0|          null|       103|           60|\n",
      "+-----------+----------+---------+--------+------------+-------------------+-------+-------+--------------+----------+-------------+\n",
      "only showing top 5 rows\n",
      "\n"
     ]
    }
   ],
   "source": [
    "employees.show(5)"
   ]
  },
  {
   "cell_type": "code",
   "execution_count": 5,
   "metadata": {},
   "outputs": [
    {
     "name": "stdout",
     "output_type": "stream",
     "text": [
      "root\n",
      " |-- EMPLOYEE_ID: string (nullable = true)\n",
      " |-- FIRST_NAME: string (nullable = true)\n",
      " |-- LAST_NAME: string (nullable = true)\n",
      " |-- EMAIL: string (nullable = true)\n",
      " |-- PHONE_NUMBER: string (nullable = true)\n",
      " |-- HIRE_DATE: string (nullable = true)\n",
      " |-- JOB_ID: string (nullable = true)\n",
      " |-- SALARY: double (nullable = true)\n",
      " |-- COMMISSION_PCT: string (nullable = true)\n",
      " |-- MANAGER_ID: string (nullable = true)\n",
      " |-- DEPARTMENT_ID: string (nullable = true)\n",
      "\n"
     ]
    }
   ],
   "source": [
    "employees.printSchema()"
   ]
  },
  {
   "cell_type": "code",
   "execution_count": 69,
   "metadata": {},
   "outputs": [
    {
     "name": "stdout",
     "output_type": "stream",
     "text": [
      "+-----------+--------------------+-----------+-------------------+----------------+----------+\n",
      "|location_id|      street_address|postal_code|               city|  state_province|country_id|\n",
      "+-----------+--------------------+-----------+-------------------+----------------+----------+\n",
      "|       1000|1297 Via Cola di Rie|      00989|               Roma|            null|        IT|\n",
      "|       1100|93091 Calle della...|      10934|             Venice|            null|        IT|\n",
      "|       1200|    2017 Shinjuku-ku|       1689|              Tokyo|Tokyo Prefecture|        JP|\n",
      "|       1300|     9450 Kamiya-cho|       6823|          Hiroshima|            null|        JP|\n",
      "|       1400| 2014 Jabberwocky Rd|      26192|          Southlake|           Texas|        US|\n",
      "|       1500| 2011 Interiors Blvd|      99236|South San Francisco|      California|        US|\n",
      "|       1600|      2007 Zagora St|      50090|    South Brunswick|      New Jersey|        US|\n",
      "|       1700|     2004 Charade Rd|      98199|            Seattle|      Washington|        US|\n",
      "|       1800|     147 Spadina Ave|    M5V 2L7|            Toronto|         Ontario|        CA|\n",
      "|       1900|     6092 Boxwood St|    YSW 9T2|         Whitehorse|           Yukon|        CA|\n",
      "|       2000| 40-5-12 Laogianggen|     190518|            Beijing|            null|        CN|\n",
      "|       2100|  1298 Vileparle (E)|     490231|             Bombay|     Maharashtra|        IN|\n",
      "|       2200|12-98 Victoria St...|       2901|             Sydney| New South Wales|        AU|\n",
      "|       2300|  198 Clementi North|     540198|          Singapore|            null|        SG|\n",
      "|       2400|      8204 Arthur St|       null|             London|            null|        UK|\n",
      "|       2500|Magdalen Centre, ...|    OX9 9ZB|             Oxford|          Oxford|        UK|\n",
      "|       2600|   9702 Chester Road|09629850293|          Stretford|      Manchester|        UK|\n",
      "|       2700|Schwanthalerstr. ...|      80925|             Munich|         Bavaria|        DE|\n",
      "|       2800|Rua Frei Caneca 1360|  01307-002|          Sao Paulo|       Sao Paulo|        BR|\n",
      "|       2900|20 Rue des Corps-...|       1730|             Geneva|          Geneve|        CH|\n",
      "+-----------+--------------------+-----------+-------------------+----------------+----------+\n",
      "only showing top 20 rows\n",
      "\n",
      "root\n",
      " |-- location_id: string (nullable = true)\n",
      " |-- street_address: string (nullable = true)\n",
      " |-- postal_code: string (nullable = true)\n",
      " |-- city: string (nullable = true)\n",
      " |-- state_province: string (nullable = true)\n",
      " |-- country_id: string (nullable = true)\n",
      "\n"
     ]
    }
   ],
   "source": [
    "locations = spark.read.option(\"ignoreLeadingWhiteSpace\", True).option(\"ignoreTrailingWhiteSpace\", True).csv(\"HR_locations.csv\",header=True)\n",
    "locations.registerTempTable(\"locations\")\n",
    "locations.show()\n",
    "locations.printSchema()\n"
   ]
  },
  {
   "cell_type": "code",
   "execution_count": 22,
   "metadata": {},
   "outputs": [],
   "source": [
    "employees.registerTempTable(\"employees\")"
   ]
  },
  {
   "cell_type": "code",
   "execution_count": 23,
   "metadata": {},
   "outputs": [],
   "source": [
    "departments.registerTempTable(\"departments\")"
   ]
  },
  {
   "cell_type": "code",
   "execution_count": 24,
   "metadata": {},
   "outputs": [
    {
     "name": "stdout",
     "output_type": "stream",
     "text": [
      "+-----------+----------+---------+--------+------------+-------------------+-------+-------+--------------+----------+-------------+\n",
      "|EMPLOYEE_ID|FIRST_NAME|LAST_NAME|   EMAIL|PHONE_NUMBER|          HIRE_DATE| JOB_ID| SALARY|COMMISSION_PCT|MANAGER_ID|DEPARTMENT_ID|\n",
      "+-----------+----------+---------+--------+------------+-------------------+-------+-------+--------------+----------+-------------+\n",
      "|        100|    Steven|     King|   SKING|515.123.4567|1987-06-17 00:00:00|AD_PRES|24000.0|          null|      null|           90|\n",
      "|        101|     Neena|  Kochhar|NKOCHHAR|515.123.4568|1989-09-21 00:00:00|  AD_VP|17000.0|          null|       100|           90|\n",
      "+-----------+----------+---------+--------+------------+-------------------+-------+-------+--------------+----------+-------------+\n",
      "only showing top 2 rows\n",
      "\n"
     ]
    }
   ],
   "source": [
    "spark.sql(\"select * from employees\").show(2)"
   ]
  },
  {
   "cell_type": "code",
   "execution_count": 25,
   "metadata": {},
   "outputs": [
    {
     "name": "stdout",
     "output_type": "stream",
     "text": [
      "+----------+---------+-------+\n",
      "|FIRST_NAME|last_name| salary|\n",
      "+----------+---------+-------+\n",
      "|    Steven|     King|24000.0|\n",
      "|     Neena|  Kochhar|17000.0|\n",
      "+----------+---------+-------+\n",
      "only showing top 2 rows\n",
      "\n"
     ]
    }
   ],
   "source": [
    "# 1. Write a query to find the name (first_name, last_name) \n",
    "# and the salary of the employees who have a higher salary than the employee whose last_name='Bull'.\n",
    "\n",
    "spark.sql(\"select FIRST_NAME,last_name,salary from employees where salary > \\\n",
    "(select salary from employees where last_name='Bull')\").show(2)"
   ]
  },
  {
   "cell_type": "code",
   "execution_count": 26,
   "metadata": {},
   "outputs": [
    {
     "data": {
      "text/plain": [
       "[4100.0]"
      ]
     },
     "execution_count": 26,
     "metadata": {},
     "output_type": "execute_result"
    }
   ],
   "source": [
    "bull_lat_name = employees.filter(col('last_name') == 'Bull').select('salary').rdd.map(lambda x:x.salary).collect()\n",
    "bull_lat_name"
   ]
  },
  {
   "cell_type": "code",
   "execution_count": 27,
   "metadata": {},
   "outputs": [
    {
     "name": "stdout",
     "output_type": "stream",
     "text": [
      "+-----------+---------+-------+\n",
      "| FIRST_NAME|last_name| salary|\n",
      "+-----------+---------+-------+\n",
      "|     Steven|     King|24000.0|\n",
      "|      Neena|  Kochhar|17000.0|\n",
      "|        Lex|  De Haan|17000.0|\n",
      "|  Alexander|   Hunold| 9000.0|\n",
      "|      Bruce|    Ernst| 6000.0|\n",
      "|      David|   Austin| 4800.0|\n",
      "|      Valli|Pataballa| 4800.0|\n",
      "|      Diana|  Lorentz| 4200.0|\n",
      "|      Nancy|Greenberg|12000.0|\n",
      "|     Daniel|   Faviet| 9000.0|\n",
      "|       John|     Chen| 8200.0|\n",
      "|     Ismael|  Sciarra| 7700.0|\n",
      "|Jose Manuel|    Urman| 7800.0|\n",
      "|       Luis|     Popp| 6900.0|\n",
      "|        Den| Raphaely|11000.0|\n",
      "|    Matthew|    Weiss| 8000.0|\n",
      "|       Adam|    Fripp| 8200.0|\n",
      "|      Payam| Kaufling| 7900.0|\n",
      "|     Shanta|  Vollman| 6500.0|\n",
      "|      Kevin|  Mourgos| 5800.0|\n",
      "+-----------+---------+-------+\n",
      "only showing top 20 rows\n",
      "\n"
     ]
    }
   ],
   "source": [
    "employees.filter(col('salary')> bull_lat_name[0]).select('FIRST_NAME','last_name','salary').show()"
   ]
  },
  {
   "cell_type": "code",
   "execution_count": 49,
   "metadata": {},
   "outputs": [
    {
     "name": "stdout",
     "output_type": "stream",
     "text": [
      "+----------+---------+\n",
      "|first_name|last_name|\n",
      "+----------+---------+\n",
      "| Alexander|   Hunold|\n",
      "|     Bruce|    Ernst|\n",
      "|     David|   Austin|\n",
      "|     Valli|Pataballa|\n",
      "|     Diana|  Lorentz|\n",
      "+----------+---------+\n",
      "\n"
     ]
    }
   ],
   "source": [
    "# 2. Write a query to find the name (first_name, last_name) \n",
    "# of all employees who works in the IT department.\n",
    "# spark.sql(\"select DEPARTMENT_ID from departments where DEPARTMENT_NAME ='IT'\").show()\n",
    "spark.sql(\"select first_name ,last_name from employees where DEPARTMENT_ID in \\\n",
    "          (select DEPARTMENT_ID from departments where DEPARTMENT_NAME ='IT') \").show()\n"
   ]
  },
  {
   "cell_type": "code",
   "execution_count": 84,
   "metadata": {},
   "outputs": [],
   "source": [
    "# 3. Write a query to find the name (first_name, last_name) \n",
    "# of the employees who have a manager and worked in a USA based department.\n",
    "x = spark.sql(\"select emp.first_name ,emp.last_name from employees emp join  \\\n",
    "                            departments dep on emp.DEPARTMENT_ID = dep.DEPARTMENT_ID \\\n",
    "                            join locations loc on loc.location_id = dep.location_id \\\n",
    "                            where dep.MANAGER_ID != 0 and loc.country_id == 'US' \")"
   ]
  },
  {
   "cell_type": "code",
   "execution_count": null,
   "metadata": {},
   "outputs": [],
   "source": [
    "x = spark.sql(\"\"\" \n",
    "select first_name , last_name from employees where\n",
    "    DEPARTMENT_ID in (select DEPARTMENT_ID from departments where MANAGER_ID!=0\n",
    "    and location_id in (select location_id from  locations where country_id == 'US') )\n",
    "    \"\"\")\n",
    "x.explain() # Both the joins and sub queries use the same plan for query execution"
   ]
  },
  {
   "cell_type": "code",
   "execution_count": null,
   "metadata": {},
   "outputs": [],
   "source": []
  },
  {
   "cell_type": "code",
   "execution_count": 89,
   "metadata": {},
   "outputs": [
    {
     "name": "stdout",
     "output_type": "stream",
     "text": [
      "+----------+---------+\n",
      "|first_name|last_name|\n",
      "+----------+---------+\n",
      "|    Steven|     King|\n",
      "|     Neena|  Kochhar|\n",
      "|       Lex|  De Haan|\n",
      "| Alexander|   Hunold|\n",
      "|     Nancy|Greenberg|\n",
      "|       Den| Raphaely|\n",
      "|   Matthew|    Weiss|\n",
      "|      Adam|    Fripp|\n",
      "|     Payam| Kaufling|\n",
      "|    Shanta|  Vollman|\n",
      "|     Kevin|  Mourgos|\n",
      "|      John|  Russell|\n",
      "|     Karen| Partners|\n",
      "|   Alberto|Errazuriz|\n",
      "|    Gerald|Cambrault|\n",
      "|     Eleni|  Zlotkey|\n",
      "|   Michael|Hartstein|\n",
      "|   Shelley|  Higgins|\n",
      "+----------+---------+\n",
      "\n"
     ]
    }
   ],
   "source": [
    "# 4. Write a query to find the name (first_name, last_name) of the employees who are managers.\n",
    "x = spark.sql(\"\"\"\n",
    "                select first_name , last_name from employees where EMPLOYEE_ID in (\n",
    "                select MANAGER_ID from employees )\"\"\").show()"
   ]
  },
  {
   "cell_type": "code",
   "execution_count": 93,
   "metadata": {},
   "outputs": [
    {
     "name": "stdout",
     "output_type": "stream",
     "text": [
      "+-----------+---------+-------+\n",
      "| first_name|last_name| salary|\n",
      "+-----------+---------+-------+\n",
      "|     Steven|     King|24000.0|\n",
      "|      Neena|  Kochhar|17000.0|\n",
      "|        Lex|  De Haan|17000.0|\n",
      "|  Alexander|   Hunold| 9000.0|\n",
      "|      Nancy|Greenberg|12000.0|\n",
      "|     Daniel|   Faviet| 9000.0|\n",
      "|       John|     Chen| 8200.0|\n",
      "|     Ismael|  Sciarra| 7700.0|\n",
      "|Jose Manuel|    Urman| 7800.0|\n",
      "|       Luis|     Popp| 6900.0|\n",
      "|        Den| Raphaely|11000.0|\n",
      "|    Matthew|    Weiss| 8000.0|\n",
      "|       Adam|    Fripp| 8200.0|\n",
      "|      Payam| Kaufling| 7900.0|\n",
      "|     Shanta|  Vollman| 6500.0|\n",
      "|       John|  Russell|14000.0|\n",
      "|      Karen| Partners|13500.0|\n",
      "|    Alberto|Errazuriz|12000.0|\n",
      "|     Gerald|Cambrault|11000.0|\n",
      "|      Eleni|  Zlotkey|10500.0|\n",
      "+-----------+---------+-------+\n",
      "only showing top 20 rows\n",
      "\n"
     ]
    }
   ],
   "source": [
    "# 5. Write a query to find the name (first_name, last_name),\n",
    "# and salary of the employees whose salary is greater than the average salary. \n",
    "x = spark.sql(\"\"\"\n",
    "                select first_name , last_name,salary from employees where salary > (\n",
    "                select avg(salary) from employees )\n",
    "                \"\"\").show()\n"
   ]
  },
  {
   "cell_type": "code",
   "execution_count": null,
   "metadata": {},
   "outputs": [],
   "source": [
    "# 6. Write a query to find the name (first_name, last_name), \n",
    "# and salary of the employees whose salary is equal to the minimum salary for their job grade.\n",
    "\n",
    "x = spark.sql(\"\"\"\n",
    "                select first_name , last_name,salary from employees where salary == (\n",
    "                select min(salary) from employees group by  )\n",
    "                \"\"\").show()\n"
   ]
  }
 ],
 "metadata": {
  "kernelspec": {
   "display_name": "Python 3",
   "language": "python",
   "name": "python3"
  },
  "language_info": {
   "codemirror_mode": {
    "name": "ipython",
    "version": 3
   },
   "file_extension": ".py",
   "mimetype": "text/x-python",
   "name": "python",
   "nbconvert_exporter": "python",
   "pygments_lexer": "ipython3",
   "version": "3.6.8"
  }
 },
 "nbformat": 4,
 "nbformat_minor": 2
}
