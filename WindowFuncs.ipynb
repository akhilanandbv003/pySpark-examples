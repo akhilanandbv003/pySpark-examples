{
 "cells": [
  {
   "cell_type": "code",
   "execution_count": 3,
   "metadata": {},
   "outputs": [],
   "source": [
    "df=spark.read.option(\"header\",True).csv(\"employees.txt\")"
   ]
  },
  {
   "cell_type": "code",
   "execution_count": 72,
   "metadata": {},
   "outputs": [],
   "source": [
    "df.createOrReplaceTempView(\"empsalary\")"
   ]
  },
  {
   "cell_type": "code",
   "execution_count": null,
   "metadata": {},
   "outputs": [],
   "source": []
  },
  {
   "cell_type": "code",
   "execution_count": 73,
   "metadata": {},
   "outputs": [
    {
     "name": "stdout",
     "output_type": "stream",
     "text": [
      "+-----+---+------+\n",
      "|  dep|emp|salary|\n",
      "+-----+---+------+\n",
      "|sales|  1| 33000|\n",
      "|sales| 11| 33000|\n",
      "|sales| 31| 22000|\n",
      "|sales|331| 98000|\n",
      "|sales|931| 12000|\n",
      "|sales|512| 56000|\n",
      "|sales|115| 91000|\n",
      "|sales|120| 82000|\n",
      "|sales|115| 99000|\n",
      "|   hr|  4| 25000|\n",
      "|   hr|154| 12000|\n",
      "|   hr|413| 12000|\n",
      "|   hr|994| 17000|\n",
      "|   hr|584| 82000|\n",
      "+-----+---+------+\n",
      "\n"
     ]
    }
   ],
   "source": [
    "sqlContext.sql(\"select * from empsalary\").show()"
   ]
  },
  {
   "cell_type": "markdown",
   "metadata": {},
   "source": [
    "Find the difference between the salary of the employee and highest salary in that department\n",
    "\n"
   ]
  },
  {
   "cell_type": "code",
   "execution_count": 74,
   "metadata": {},
   "outputs": [
    {
     "name": "stdout",
     "output_type": "stream",
     "text": [
      "+-----+---+------+-------+\n",
      "|  dep|emp|salary|   diff|\n",
      "+-----+---+------+-------+\n",
      "|sales|  1| 33000|66000.0|\n",
      "|sales| 11| 33000|66000.0|\n",
      "|sales| 31| 22000|77000.0|\n",
      "|sales|331| 98000| 1000.0|\n",
      "|sales|931| 12000|87000.0|\n",
      "|sales|512| 56000|43000.0|\n",
      "|sales|115| 91000| 8000.0|\n",
      "|sales|120| 82000|17000.0|\n",
      "|sales|115| 99000|    0.0|\n",
      "|   hr|  4| 25000|57000.0|\n",
      "|   hr|154| 12000|70000.0|\n",
      "|   hr|413| 12000|70000.0|\n",
      "|   hr|994| 17000|65000.0|\n",
      "|   hr|584| 82000|    0.0|\n",
      "+-----+---+------+-------+\n",
      "\n"
     ]
    }
   ],
   "source": [
    "#Find the difference between the salary of the employee and highest salary in that department\n",
    "sqlContext.sql(\"select e1.dep,e1.emp,e1.salary, (max_salary- e1.salary) as diff from empsalary e1 inner join \\\n",
    "(select dep, max(salary) as max_salary from empsalary group by dep) e2 on e1.dep = e2.dep\").show()"
   ]
  },
  {
   "cell_type": "code",
   "execution_count": 75,
   "metadata": {},
   "outputs": [
    {
     "name": "stdout",
     "output_type": "stream",
     "text": [
      "+-----+---+------+-------+\n",
      "|  dep|emp|salary|   diff|\n",
      "+-----+---+------+-------+\n",
      "|sales|  1| 33000|66000.0|\n",
      "|sales| 11| 33000|66000.0|\n",
      "|sales| 31| 22000|77000.0|\n",
      "|sales|331| 98000| 1000.0|\n",
      "|sales|931| 12000|87000.0|\n",
      "|sales|512| 56000|43000.0|\n",
      "|sales|115| 91000| 8000.0|\n",
      "|sales|120| 82000|17000.0|\n",
      "|sales|115| 99000|    0.0|\n",
      "|   hr|  4| 25000|57000.0|\n",
      "|   hr|154| 12000|70000.0|\n",
      "|   hr|413| 12000|70000.0|\n",
      "|   hr|994| 17000|65000.0|\n",
      "|   hr|584| 82000|    0.0|\n",
      "+-----+---+------+-------+\n",
      "\n"
     ]
    }
   ],
   "source": [
    "sqlContext.sql(\"select e1.dep,e1.emp,e1.salary, max(e1.salary) over(partition by dep) - e1.salary as diff \\\n",
    "from empsalary e1\").show()"
   ]
  },
  {
   "cell_type": "code",
   "execution_count": 2,
   "metadata": {},
   "outputs": [],
   "source": [
    "from pyspark.sql.functions import *\n",
    "from pyspark.sql.window import *\n"
   ]
  },
  {
   "cell_type": "code",
   "execution_count": 1,
   "metadata": {},
   "outputs": [
    {
     "ename": "NameError",
     "evalue": "name 'Window' is not defined",
     "output_type": "error",
     "traceback": [
      "\u001b[0;31m---------------------------------------------------------------------------\u001b[0m",
      "\u001b[0;31mNameError\u001b[0m                                 Traceback (most recent call last)",
      "\u001b[0;32m<ipython-input-1-c60377b5530c>\u001b[0m in \u001b[0;36m<module>\u001b[0;34m\u001b[0m\n\u001b[1;32m      1\u001b[0m \u001b[0;31m# salDesc = Window.partitionBy('dep').orderBy(df['salary'].desc())\u001b[0m\u001b[0;34m\u001b[0m\u001b[0;34m\u001b[0m\u001b[0;34m\u001b[0m\u001b[0m\n\u001b[0;32m----> 2\u001b[0;31m \u001b[0msalDesc\u001b[0m \u001b[0;34m=\u001b[0m \u001b[0mWindow\u001b[0m\u001b[0;34m.\u001b[0m\u001b[0mpartitionBy\u001b[0m\u001b[0;34m(\u001b[0m\u001b[0;34m'dep'\u001b[0m\u001b[0;34m)\u001b[0m\u001b[0;34m\u001b[0m\u001b[0;34m\u001b[0m\u001b[0m\n\u001b[0m",
      "\u001b[0;31mNameError\u001b[0m: name 'Window' is not defined"
     ]
    }
   ],
   "source": [
    "# salDesc = Window.partitionBy('dep').orderBy(df['salary'].desc())\n",
    "salDesc = Window.partitionBy('dep')"
   ]
  },
  {
   "cell_type": "code",
   "execution_count": 78,
   "metadata": {},
   "outputs": [],
   "source": [
    "salDiff = df.withColumn(\"diff\" ,max(df[\"salary\"]).over(salDesc) - df[\"salary\"] )\n",
    "\n",
    "# salDiff = max(df['salary'].over(salDesc)) - df['salary']"
   ]
  },
  {
   "cell_type": "code",
   "execution_count": 79,
   "metadata": {},
   "outputs": [
    {
     "name": "stdout",
     "output_type": "stream",
     "text": [
      "+-----+---+------+-------+\n",
      "|  dep|emp|salary|   diff|\n",
      "+-----+---+------+-------+\n",
      "|sales|  1| 33000|66000.0|\n",
      "|sales| 11| 33000|66000.0|\n",
      "|sales| 31| 22000|77000.0|\n",
      "|sales|331| 98000| 1000.0|\n",
      "|sales|931| 12000|87000.0|\n",
      "|sales|512| 56000|43000.0|\n",
      "|sales|115| 91000| 8000.0|\n",
      "|sales|120| 82000|17000.0|\n",
      "|sales|115| 99000|    0.0|\n",
      "|   hr|  4| 25000|57000.0|\n",
      "|   hr|154| 12000|70000.0|\n",
      "|   hr|413| 12000|70000.0|\n",
      "|   hr|994| 17000|65000.0|\n",
      "|   hr|584| 82000|    0.0|\n",
      "+-----+---+------+-------+\n",
      "\n"
     ]
    }
   ],
   "source": [
    "salDiff.show()"
   ]
  },
  {
   "cell_type": "code",
   "execution_count": 80,
   "metadata": {},
   "outputs": [
    {
     "name": "stdout",
     "output_type": "stream",
     "text": [
      "+-----+---+------+--------+--------------+\n",
      "|  dep|emp|salary|rank_col|dense_rank_col|\n",
      "+-----+---+------+--------+--------------+\n",
      "|sales|931| 12000|       1|             1|\n",
      "|sales| 31| 22000|       2|             2|\n",
      "|sales|  1| 33000|       3|             3|\n",
      "|sales| 11| 33000|       3|             3|\n",
      "|sales|512| 56000|       5|             4|\n",
      "|sales|120| 82000|       6|             5|\n",
      "|sales|115| 91000|       7|             6|\n",
      "|sales|331| 98000|       8|             7|\n",
      "|sales|115| 99000|       9|             8|\n",
      "|   hr|154| 12000|       1|             1|\n",
      "|   hr|413| 12000|       1|             1|\n",
      "|   hr|994| 17000|       3|             2|\n",
      "|   hr|  4| 25000|       4|             3|\n",
      "|   hr|584| 82000|       5|             4|\n",
      "+-----+---+------+--------+--------------+\n",
      "\n"
     ]
    }
   ],
   "source": [
    "sqlContext.sql(\"select dep,emp,salary, \\\n",
    "               rank() over(partition by dep order by salary) rank_col, \\\n",
    "               dense_rank() over(partition by dep order by salary) dense_rank_col from empsalary\").show()"
   ]
  },
  {
   "cell_type": "code",
   "execution_count": 84,
   "metadata": {},
   "outputs": [],
   "source": [
    "w = Window.partitionBy('dep').orderBy('salary')"
   ]
  },
  {
   "cell_type": "code",
   "execution_count": 87,
   "metadata": {},
   "outputs": [
    {
     "name": "stdout",
     "output_type": "stream",
     "text": [
      "+-----+---+------+----------+----+\n",
      "|  dep|emp|salary|dense_rank|rank|\n",
      "+-----+---+------+----------+----+\n",
      "|sales|931| 12000|         1|   1|\n",
      "|sales| 31| 22000|         2|   2|\n",
      "|sales|  1| 33000|         3|   3|\n",
      "|sales| 11| 33000|         3|   3|\n",
      "|sales|512| 56000|         4|   5|\n",
      "|sales|120| 82000|         5|   6|\n",
      "|sales|115| 91000|         6|   7|\n",
      "|sales|331| 98000|         7|   8|\n",
      "|sales|115| 99000|         8|   9|\n",
      "|   hr|154| 12000|         1|   1|\n",
      "|   hr|413| 12000|         1|   1|\n",
      "|   hr|994| 17000|         2|   3|\n",
      "|   hr|  4| 25000|         3|   4|\n",
      "|   hr|584| 82000|         4|   5|\n",
      "+-----+---+------+----------+----+\n",
      "\n"
     ]
    }
   ],
   "source": [
    "df.withColumn(\"dense_rank\", dense_rank().over(w)).withColumn(\"rank\", rank().over(w)).show()"
   ]
  },
  {
   "cell_type": "code",
   "execution_count": 4,
   "metadata": {},
   "outputs": [],
   "source": [
    "w= Window.orderBy('salary')"
   ]
  },
  {
   "cell_type": "code",
   "execution_count": 7,
   "metadata": {},
   "outputs": [
    {
     "name": "stdout",
     "output_type": "stream",
     "text": [
      "+-----+---+------+---------+\n",
      "|  dep|emp|salary|denseRank|\n",
      "+-----+---+------+---------+\n",
      "|sales|931| 12000|        1|\n",
      "|   hr|154| 12000|        1|\n",
      "|   hr|413| 12000|        1|\n",
      "|   hr|994| 17000|        2|\n",
      "|sales| 31| 22000|        3|\n",
      "|   hr|  4| 25000|        4|\n",
      "|sales|  1| 33000|        5|\n",
      "|sales| 11| 33000|        5|\n",
      "|sales|512| 56000|        6|\n",
      "|sales|120| 82000|        7|\n",
      "|   hr|584| 82000|        7|\n",
      "|sales|115| 91000|        8|\n",
      "|sales|331| 98000|        9|\n",
      "|sales|115| 99000|       10|\n",
      "+-----+---+------+---------+\n",
      "\n"
     ]
    }
   ],
   "source": [
    "df.withColumn(\"denseRank\", dense_rank().over(w)).show()"
   ]
  },
  {
   "cell_type": "code",
   "execution_count": null,
   "metadata": {},
   "outputs": [],
   "source": []
  },
  {
   "cell_type": "code",
   "execution_count": null,
   "metadata": {},
   "outputs": [],
   "source": []
  }
 ],
 "metadata": {
  "kernelspec": {
   "display_name": "Python 3",
   "language": "python",
   "name": "python3"
  },
  "language_info": {
   "codemirror_mode": {
    "name": "ipython",
    "version": 3
   },
   "file_extension": ".py",
   "mimetype": "text/x-python",
   "name": "python",
   "nbconvert_exporter": "python",
   "pygments_lexer": "ipython3",
   "version": "3.6.8"
  }
 },
 "nbformat": 4,
 "nbformat_minor": 2
}
