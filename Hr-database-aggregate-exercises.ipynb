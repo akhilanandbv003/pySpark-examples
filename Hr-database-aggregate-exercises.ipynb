{
 "cells": [
  {
   "cell_type": "code",
   "execution_count": 52,
   "metadata": {},
   "outputs": [],
   "source": [
    "from pyspark.sql.functions import *\n",
    "from pyspark.sql.types import *"
   ]
  },
  {
   "cell_type": "code",
   "execution_count": 89,
   "metadata": {},
   "outputs": [],
   "source": [
    "employees = spark.read.csv(\"HR_employess.csv\",header=True)\n",
    "employees = employees.withColumn(\"SALARY\",employees[\"SALARY\"].cast(DoubleType()))\n"
   ]
  },
  {
   "cell_type": "code",
   "execution_count": 90,
   "metadata": {},
   "outputs": [
    {
     "name": "stdout",
     "output_type": "stream",
     "text": [
      "+-----------+----------+---------+--------+------------+-------------------+-------+-------+--------------+----------+-------------+\n",
      "|EMPLOYEE_ID|FIRST_NAME|LAST_NAME|   EMAIL|PHONE_NUMBER|          HIRE_DATE| JOB_ID| SALARY|COMMISSION_PCT|MANAGER_ID|DEPARTMENT_ID|\n",
      "+-----------+----------+---------+--------+------------+-------------------+-------+-------+--------------+----------+-------------+\n",
      "|        100|    Steven|     King|   SKING|515.123.4567|1987-06-17 00:00:00|AD_PRES|24000.0|          null|      null|           90|\n",
      "|        101|     Neena|  Kochhar|NKOCHHAR|515.123.4568|1989-09-21 00:00:00|  AD_VP|17000.0|          null|       100|           90|\n",
      "|        102|       Lex|  De Haan| LDEHAAN|515.123.4569|1993-01-13 00:00:00|  AD_VP|17000.0|          null|       100|           90|\n",
      "|        103| Alexander|   Hunold| AHUNOLD|590.423.4567|1990-01-03 00:00:00|IT_PROG| 9000.0|          null|       102|           60|\n",
      "|        104|     Bruce|    Ernst|  BERNST|590.423.4568|1991-05-21 00:00:00|IT_PROG| 6000.0|          null|       103|           60|\n",
      "+-----------+----------+---------+--------+------------+-------------------+-------+-------+--------------+----------+-------------+\n",
      "only showing top 5 rows\n",
      "\n"
     ]
    }
   ],
   "source": [
    "employees.show(5)"
   ]
  },
  {
   "cell_type": "code",
   "execution_count": 99,
   "metadata": {},
   "outputs": [
    {
     "name": "stdout",
     "output_type": "stream",
     "text": [
      "root\n",
      " |-- EMPLOYEE_ID: string (nullable = true)\n",
      " |-- FIRST_NAME: string (nullable = true)\n",
      " |-- LAST_NAME: string (nullable = true)\n",
      " |-- EMAIL: string (nullable = true)\n",
      " |-- PHONE_NUMBER: string (nullable = true)\n",
      " |-- HIRE_DATE: string (nullable = true)\n",
      " |-- JOB_ID: string (nullable = true)\n",
      " |-- SALARY: double (nullable = true)\n",
      " |-- COMMISSION_PCT: string (nullable = true)\n",
      " |-- MANAGER_ID: string (nullable = true)\n",
      " |-- DEPARTMENT_ID: string (nullable = true)\n",
      "\n"
     ]
    }
   ],
   "source": [
    "employees.printSchema()"
   ]
  },
  {
   "cell_type": "code",
   "execution_count": null,
   "metadata": {},
   "outputs": [],
   "source": [
    "departments = spark.read.csv(\"HR_departments.csv\",header=True)\n",
    "\n"
   ]
  },
  {
   "cell_type": "code",
   "execution_count": 91,
   "metadata": {},
   "outputs": [],
   "source": [
    "employees.registerTempTable(\"employees\")"
   ]
  },
  {
   "cell_type": "code",
   "execution_count": null,
   "metadata": {},
   "outputs": [],
   "source": []
  },
  {
   "cell_type": "code",
   "execution_count": 10,
   "metadata": {},
   "outputs": [
    {
     "name": "stdout",
     "output_type": "stream",
     "text": [
      "+----------------------+\n",
      "|count(DISTINCT JOB_ID)|\n",
      "+----------------------+\n",
      "|                    19|\n",
      "+----------------------+\n",
      "\n"
     ]
    }
   ],
   "source": [
    "# 1. Write a query to list the number of jobs available in the employees table.\n",
    "spark.sql(\"select count(distinct(JOB_ID)) from employees\").show()"
   ]
  },
  {
   "cell_type": "code",
   "execution_count": 20,
   "metadata": {},
   "outputs": [
    {
     "data": {
      "text/plain": [
       "19"
      ]
     },
     "execution_count": 20,
     "metadata": {},
     "output_type": "execute_result"
    }
   ],
   "source": [
    "employees.select(\"JOB_ID\").distinct().count()"
   ]
  },
  {
   "cell_type": "code",
   "execution_count": 23,
   "metadata": {},
   "outputs": [
    {
     "name": "stdout",
     "output_type": "stream",
     "text": [
      "+---------------------------+\n",
      "|sum(CAST(SALARY AS DOUBLE))|\n",
      "+---------------------------+\n",
      "|                   691400.0|\n",
      "+---------------------------+\n",
      "\n"
     ]
    }
   ],
   "source": [
    "# 2. Write a query to get the total salaries payable to employees.\n",
    "spark.sql(\"select sum(SALARY) from employees\").show()"
   ]
  },
  {
   "cell_type": "code",
   "execution_count": 85,
   "metadata": {},
   "outputs": [],
   "source": [
    "sumOfSalary=employees.agg(sum(\"SALARY\"))"
   ]
  },
  {
   "cell_type": "code",
   "execution_count": 86,
   "metadata": {},
   "outputs": [
    {
     "name": "stdout",
     "output_type": "stream",
     "text": [
      "+-----------+\n",
      "|sum(SALARY)|\n",
      "+-----------+\n",
      "|   691400.0|\n",
      "+-----------+\n",
      "\n"
     ]
    }
   ],
   "source": [
    "sumOfSalary.show()"
   ]
  },
  {
   "cell_type": "code",
   "execution_count": 92,
   "metadata": {},
   "outputs": [
    {
     "name": "stdout",
     "output_type": "stream",
     "text": [
      "+-----------+\n",
      "|min(SALARY)|\n",
      "+-----------+\n",
      "|     2100.0|\n",
      "+-----------+\n",
      "\n"
     ]
    }
   ],
   "source": [
    "# 3. Write a query to get the minimum salary from employees table.\n",
    "spark.sql(\"select min(SALARY)  from employees\").show()"
   ]
  },
  {
   "cell_type": "code",
   "execution_count": 93,
   "metadata": {},
   "outputs": [
    {
     "name": "stdout",
     "output_type": "stream",
     "text": [
      "+-----------+\n",
      "|min(SALARY)|\n",
      "+-----------+\n",
      "|     2100.0|\n",
      "+-----------+\n",
      "\n"
     ]
    }
   ],
   "source": [
    "employees.agg(min(\"SALARY\")).show()"
   ]
  },
  {
   "cell_type": "code",
   "execution_count": 95,
   "metadata": {},
   "outputs": [
    {
     "name": "stdout",
     "output_type": "stream",
     "text": [
      "+-----------+\n",
      "|max(SALARY)|\n",
      "+-----------+\n",
      "|     9000.0|\n",
      "+-----------+\n",
      "\n"
     ]
    }
   ],
   "source": [
    "# 4. Write a query to get the maximum salary of an employee working as a Programmer. \n",
    "spark.sql(\"select max(e.SALARY) from employees e where e.job_id = 'IT_PROG' \").show()"
   ]
  },
  {
   "cell_type": "code",
   "execution_count": 97,
   "metadata": {},
   "outputs": [
    {
     "name": "stdout",
     "output_type": "stream",
     "text": [
      "+-----------+\n",
      "|max(SALARY)|\n",
      "+-----------+\n",
      "|     9000.0|\n",
      "+-----------+\n",
      "\n"
     ]
    }
   ],
   "source": [
    "employees.filter(col(\"JOB_ID\") == 'IT_PROG').agg(max(\"SALARY\")).show()"
   ]
  },
  {
   "cell_type": "code",
   "execution_count": 102,
   "metadata": {},
   "outputs": [
    {
     "name": "stdout",
     "output_type": "stream",
     "text": [
      "+------------------+--------------------+\n",
      "|       avg(SALARY)|count(DEPARTMENT_ID)|\n",
      "+------------------+--------------------+\n",
      "|19333.333333333332|                   3|\n",
      "+------------------+--------------------+\n",
      "\n"
     ]
    }
   ],
   "source": [
    "# 5. Write a query to get the average salary and number of employees working the department 90.\n",
    "spark.sql(\"select avg(e.SALARY), count(DEPARTMENT_ID) from employees e where e.DEPARTMENT_ID = '90' \").show()"
   ]
  },
  {
   "cell_type": "code",
   "execution_count": 105,
   "metadata": {},
   "outputs": [
    {
     "name": "stdout",
     "output_type": "stream",
     "text": [
      "+------------------+-------------+\n",
      "|       avg(SALARY)|count(SALARY)|\n",
      "+------------------+-------------+\n",
      "|19333.333333333332|            3|\n",
      "+------------------+-------------+\n",
      "\n"
     ]
    }
   ],
   "source": [
    "employees.filter(col(\"DEPARTMENT_ID\") == '90').agg(avg(\"SALARY\"),count(\"SALARY\")).show()"
   ]
  },
  {
   "cell_type": "code",
   "execution_count": 106,
   "metadata": {},
   "outputs": [
    {
     "name": "stdout",
     "output_type": "stream",
     "text": [
      "+-----------+-----------+-----------+-----------------+\n",
      "|max(SALARY)|min(SALARY)|sum(SALARY)|      avg(SALARY)|\n",
      "+-----------+-----------+-----------+-----------------+\n",
      "|    24000.0|     2100.0|   691400.0|6461.682242990654|\n",
      "+-----------+-----------+-----------+-----------------+\n",
      "\n"
     ]
    }
   ],
   "source": [
    "# 6. Write a query to get the highest, lowest, sum, and average salary of all employees.\n",
    "spark.sql(\"select max(SALARY), min(SALARY), sum(SALARY), avg(SALARY) from employees \").show()"
   ]
  },
  {
   "cell_type": "code",
   "execution_count": 107,
   "metadata": {},
   "outputs": [
    {
     "name": "stdout",
     "output_type": "stream",
     "text": [
      "+-----------+-----------+-----------+-----------------+\n",
      "|max(SALARY)|min(SALARY)|sum(SALARY)|      avg(SALARY)|\n",
      "+-----------+-----------+-----------+-----------------+\n",
      "|    24000.0|     2100.0|   691400.0|6461.682242990654|\n",
      "+-----------+-----------+-----------+-----------------+\n",
      "\n"
     ]
    }
   ],
   "source": [
    "employees.agg(max(\"SALARY\"), min(\"SALARY\"), sum(\"SALARY\"),avg(\"SALARY\")).show()"
   ]
  },
  {
   "cell_type": "code",
   "execution_count": 110,
   "metadata": {},
   "outputs": [
    {
     "name": "stdout",
     "output_type": "stream",
     "text": [
      "+----------+--------+\n",
      "|    JOB_ID|count(1)|\n",
      "+----------+--------+\n",
      "|FI_ACCOUNT|       5|\n",
      "|    MK_MAN|       1|\n",
      "|   IT_PROG|       5|\n",
      "|    FI_MGR|       1|\n",
      "|AC_ACCOUNT|       1|\n",
      "|    HR_REP|       1|\n",
      "|  PU_CLERK|       5|\n",
      "|    AC_MGR|       1|\n",
      "|    PR_REP|       1|\n",
      "|    ST_MAN|       5|\n",
      "|    MK_REP|       1|\n",
      "|    SA_REP|      30|\n",
      "|    SA_MAN|       5|\n",
      "|    PU_MAN|       1|\n",
      "|  SH_CLERK|      20|\n",
      "|   AD_PRES|       1|\n",
      "|  ST_CLERK|      20|\n",
      "|   AD_ASST|       1|\n",
      "|     AD_VP|       2|\n",
      "+----------+--------+\n",
      "\n"
     ]
    }
   ],
   "source": [
    "# 7. Write a query to get the number of employees with the same job. \n",
    "spark.sql(\"select JOB_ID,count(*) from employees group by JOB_ID \").show()"
   ]
  },
  {
   "cell_type": "code",
   "execution_count": 112,
   "metadata": {},
   "outputs": [
    {
     "name": "stdout",
     "output_type": "stream",
     "text": [
      "+----------+-----+\n",
      "|    JOB_ID|count|\n",
      "+----------+-----+\n",
      "|FI_ACCOUNT|    5|\n",
      "|    MK_MAN|    1|\n",
      "|   IT_PROG|    5|\n",
      "|    FI_MGR|    1|\n",
      "|AC_ACCOUNT|    1|\n",
      "|    HR_REP|    1|\n",
      "|  PU_CLERK|    5|\n",
      "|    AC_MGR|    1|\n",
      "|    PR_REP|    1|\n",
      "|    ST_MAN|    5|\n",
      "|    MK_REP|    1|\n",
      "|    SA_REP|   30|\n",
      "|    SA_MAN|    5|\n",
      "|    PU_MAN|    1|\n",
      "|  SH_CLERK|   20|\n",
      "|   AD_PRES|    1|\n",
      "|  ST_CLERK|   20|\n",
      "|   AD_ASST|    1|\n",
      "|     AD_VP|    2|\n",
      "+----------+-----+\n",
      "\n"
     ]
    }
   ],
   "source": [
    "employees.groupBy(\"JOB_ID\").count().show()"
   ]
  },
  {
   "cell_type": "code",
   "execution_count": 114,
   "metadata": {},
   "outputs": [
    {
     "name": "stdout",
     "output_type": "stream",
     "text": [
      "+---------------------------+\n",
      "|(max(SALARY) - min(SALARY))|\n",
      "+---------------------------+\n",
      "|                    21900.0|\n",
      "+---------------------------+\n",
      "\n"
     ]
    }
   ],
   "source": [
    "# 8. Write a query to get the difference between the highest and lowest salaries\n",
    "spark.sql(\"select max(SALARY) - min(SALARY) from employees\").show()"
   ]
  },
  {
   "cell_type": "code",
   "execution_count": 115,
   "metadata": {},
   "outputs": [
    {
     "name": "stdout",
     "output_type": "stream",
     "text": [
      "+---------------------------+\n",
      "|(max(SALARY) - min(SALARY))|\n",
      "+---------------------------+\n",
      "|                    21900.0|\n",
      "+---------------------------+\n",
      "\n"
     ]
    }
   ],
   "source": [
    "employees.agg( max(\"SALARY\") - min(\"SALARY\")).show()"
   ]
  },
  {
   "cell_type": "code",
   "execution_count": 122,
   "metadata": {},
   "outputs": [
    {
     "name": "stdout",
     "output_type": "stream",
     "text": [
      "+----------+-----------+\n",
      "|MANAGER_ID|min(SALARY)|\n",
      "+----------+-----------+\n",
      "|       102|     9000.0|\n",
      "|       205|     8300.0|\n",
      "|       146|     7000.0|\n",
      "|       145|     7000.0|\n",
      "|       108|     6900.0|\n",
      "|       147|     6200.0|\n",
      "|       149|     6200.0|\n",
      "|       148|     6100.0|\n",
      "|       201|     6000.0|\n",
      "|       100|     5800.0|\n",
      "|       101|     4400.0|\n",
      "|       103|     4200.0|\n",
      "|       124|     2500.0|\n",
      "|       114|     2500.0|\n",
      "|       123|     2500.0|\n",
      "|       120|     2200.0|\n",
      "|       122|     2200.0|\n",
      "|       121|     2100.0|\n",
      "+----------+-----------+\n",
      "\n"
     ]
    }
   ],
   "source": [
    "# 9. Write a query to find the manager ID and the salary of the lowest-paid employee for that manager\n",
    "spark.sql(\"select MANAGER_ID, min(SALARY) from employees where MANAGER_ID is not null \\\n",
    "          group by MANAGER_ID order by min(SALARY) DESC\").show()"
   ]
  },
  {
   "cell_type": "code",
   "execution_count": 132,
   "metadata": {},
   "outputs": [
    {
     "name": "stdout",
     "output_type": "stream",
     "text": [
      "+----------+-----------+\n",
      "|MANAGER_ID|min(SALARY)|\n",
      "+----------+-----------+\n",
      "|       102|     9000.0|\n",
      "|       205|     8300.0|\n",
      "|       145|     7000.0|\n",
      "|       146|     7000.0|\n",
      "|       108|     6900.0|\n",
      "|       149|     6200.0|\n",
      "|       147|     6200.0|\n",
      "|       148|     6100.0|\n",
      "|       201|     6000.0|\n",
      "|       100|     5800.0|\n",
      "|       101|     4400.0|\n",
      "|       103|     4200.0|\n",
      "|       124|     2500.0|\n",
      "|       123|     2500.0|\n",
      "|       114|     2500.0|\n",
      "|       122|     2200.0|\n",
      "|       120|     2200.0|\n",
      "|       121|     2100.0|\n",
      "+----------+-----------+\n",
      "\n"
     ]
    }
   ],
   "source": [
    "employees.filter(col(\"MANAGER_ID\").isNotNull()).groupBy(\"MANAGER_ID\") \\\n",
    ".min(\"SALARY\").sort(col(\"min(SALARY)\").desc()).show()"
   ]
  },
  {
   "cell_type": "code",
   "execution_count": 133,
   "metadata": {},
   "outputs": [
    {
     "name": "stdout",
     "output_type": "stream",
     "text": [
      "+-------------+-----------+\n",
      "|DEPARTMENT_ID|sum(SALARY)|\n",
      "+-------------+-----------+\n",
      "|           30|    24900.0|\n",
      "|          110|    20300.0|\n",
      "|         null|     7000.0|\n",
      "|          100|    51600.0|\n",
      "|           70|    10000.0|\n",
      "|           90|    58000.0|\n",
      "|           60|    28800.0|\n",
      "|           40|     6500.0|\n",
      "|           20|    19000.0|\n",
      "|           10|     4400.0|\n",
      "|           80|   304500.0|\n",
      "|           50|   156400.0|\n",
      "+-------------+-----------+\n",
      "\n"
     ]
    }
   ],
   "source": [
    "# 10. Write a query to get the department ID and the total salary payable in each department. \n",
    "spark.sql(\"select DEPARTMENT_ID, sum(SALARY) from employees group by DEPARTMENT_ID \").show()"
   ]
  },
  {
   "cell_type": "code",
   "execution_count": 134,
   "metadata": {},
   "outputs": [
    {
     "name": "stdout",
     "output_type": "stream",
     "text": [
      "+-------------+-----------+\n",
      "|DEPARTMENT_ID|sum(SALARY)|\n",
      "+-------------+-----------+\n",
      "|           30|    24900.0|\n",
      "|          110|    20300.0|\n",
      "|         null|     7000.0|\n",
      "|          100|    51600.0|\n",
      "|           70|    10000.0|\n",
      "|           90|    58000.0|\n",
      "|           60|    28800.0|\n",
      "|           40|     6500.0|\n",
      "|           20|    19000.0|\n",
      "|           10|     4400.0|\n",
      "|           80|   304500.0|\n",
      "|           50|   156400.0|\n",
      "+-------------+-----------+\n",
      "\n"
     ]
    }
   ],
   "source": [
    "employees.groupBy(\"DEPARTMENT_ID\").sum(\"SALARY\").show()"
   ]
  },
  {
   "cell_type": "code",
   "execution_count": 138,
   "metadata": {},
   "outputs": [
    {
     "name": "stdout",
     "output_type": "stream",
     "text": [
      "+----------+-----------+\n",
      "|    JOB_ID|avg(SALARY)|\n",
      "+----------+-----------+\n",
      "|FI_ACCOUNT|     7920.0|\n",
      "|    MK_MAN|    13000.0|\n",
      "|    FI_MGR|    12000.0|\n",
      "|AC_ACCOUNT|     8300.0|\n",
      "|    HR_REP|     6500.0|\n",
      "|  PU_CLERK|     2780.0|\n",
      "|    AC_MGR|    12000.0|\n",
      "|    PR_REP|    10000.0|\n",
      "|    ST_MAN|     7280.0|\n",
      "|    MK_REP|     6000.0|\n",
      "|    SA_REP|     8350.0|\n",
      "|    SA_MAN|    12200.0|\n",
      "|    PU_MAN|    11000.0|\n",
      "|  SH_CLERK|     3215.0|\n",
      "|   AD_PRES|    24000.0|\n",
      "|  ST_CLERK|     2785.0|\n",
      "|   AD_ASST|     4400.0|\n",
      "|     AD_VP|    17000.0|\n",
      "+----------+-----------+\n",
      "\n"
     ]
    }
   ],
   "source": [
    "# 11. Write a query to get the average salary for each job ID excluding programmer. \n",
    "spark.sql(\"select JOB_ID, avg(SALARY) from employees where JOB_ID != 'IT_PROG' group by JOB_ID \").show()"
   ]
  },
  {
   "cell_type": "code",
   "execution_count": 140,
   "metadata": {},
   "outputs": [
    {
     "name": "stdout",
     "output_type": "stream",
     "text": [
      "+----------+-----------+\n",
      "|    JOB_ID|avg(SALARY)|\n",
      "+----------+-----------+\n",
      "|FI_ACCOUNT|     7920.0|\n",
      "|    MK_MAN|    13000.0|\n",
      "|    FI_MGR|    12000.0|\n",
      "|AC_ACCOUNT|     8300.0|\n",
      "|    HR_REP|     6500.0|\n",
      "|  PU_CLERK|     2780.0|\n",
      "|    AC_MGR|    12000.0|\n",
      "|    PR_REP|    10000.0|\n",
      "|    ST_MAN|     7280.0|\n",
      "|    MK_REP|     6000.0|\n",
      "|    SA_REP|     8350.0|\n",
      "|    SA_MAN|    12200.0|\n",
      "|    PU_MAN|    11000.0|\n",
      "|  SH_CLERK|     3215.0|\n",
      "|   AD_PRES|    24000.0|\n",
      "|  ST_CLERK|     2785.0|\n",
      "|   AD_ASST|     4400.0|\n",
      "|     AD_VP|    17000.0|\n",
      "+----------+-----------+\n",
      "\n"
     ]
    }
   ],
   "source": [
    "employees.filter(col(\"JOB_ID\") != 'IT_PROG').groupBy(\"JOB_ID\").avg('SALARY').show()"
   ]
  },
  {
   "cell_type": "code",
   "execution_count": 142,
   "metadata": {},
   "outputs": [
    {
     "name": "stdout",
     "output_type": "stream",
     "text": [
      "+-------+-----------+-----------+-----------+-----------+\n",
      "| JOB_ID|sum(SALARY)|max(SALARY)|min(SALARY)|avg(SALARY)|\n",
      "+-------+-----------+-----------+-----------+-----------+\n",
      "|AD_PRES|    24000.0|    24000.0|    24000.0|    24000.0|\n",
      "|  AD_VP|    34000.0|    17000.0|    17000.0|    17000.0|\n",
      "+-------+-----------+-----------+-----------+-----------+\n",
      "\n"
     ]
    }
   ],
   "source": [
    "# 12. Write a query to get the total salary, maximum, minimum, average salary of employees (job ID wise),\n",
    "# for department ID 90 only.\n",
    "\n",
    "spark.sql(\"select JOB_ID, sum(SALARY),max(SALARY),min(SALARY),avg(SALARY) \\\n",
    "          from employees where DEPARTMENT_ID = 90 group by JOB_ID \").show()"
   ]
  },
  {
   "cell_type": "code",
   "execution_count": 148,
   "metadata": {},
   "outputs": [
    {
     "name": "stdout",
     "output_type": "stream",
     "text": [
      "+-------+-----------+-----------+-----------+-----------+\n",
      "| JOB_ID|sum(SALARY)|max(SALARY)|min(SALARY)|avg(SALARY)|\n",
      "+-------+-----------+-----------+-----------+-----------+\n",
      "|AD_PRES|    24000.0|    24000.0|    24000.0|    24000.0|\n",
      "|  AD_VP|    34000.0|    17000.0|    17000.0|    17000.0|\n",
      "+-------+-----------+-----------+-----------+-----------+\n",
      "\n"
     ]
    }
   ],
   "source": [
    "employees.filter(col(\"DEPARTMENT_ID\") == 90).groupBy(\"JOB_ID\") \\\n",
    ".agg(sum(\"SALARY\"),max(\"SALARY\"), min(\"SALARY\") , avg(\"SALARY\")).show()"
   ]
  },
  {
   "cell_type": "code",
   "execution_count": 161,
   "metadata": {},
   "outputs": [
    {
     "name": "stdout",
     "output_type": "stream",
     "text": [
      "+----------+-----------+\n",
      "|    JOB_ID|max(SALARY)|\n",
      "+----------+-----------+\n",
      "|FI_ACCOUNT|     9000.0|\n",
      "|    MK_MAN|    13000.0|\n",
      "|   IT_PROG|     9000.0|\n",
      "|    FI_MGR|    12000.0|\n",
      "|AC_ACCOUNT|     8300.0|\n",
      "|    HR_REP|     6500.0|\n",
      "|    AC_MGR|    12000.0|\n",
      "|    PR_REP|    10000.0|\n",
      "|    ST_MAN|     8200.0|\n",
      "|    MK_REP|     6000.0|\n",
      "|    SA_REP|    11500.0|\n",
      "|    SA_MAN|    14000.0|\n",
      "|    PU_MAN|    11000.0|\n",
      "|  SH_CLERK|     4200.0|\n",
      "|   AD_PRES|    24000.0|\n",
      "|   AD_ASST|     4400.0|\n",
      "|     AD_VP|    17000.0|\n",
      "+----------+-----------+\n",
      "\n"
     ]
    }
   ],
   "source": [
    "# 13. Write a query to get the job ID and maximum salary of the employees\n",
    "# where maximum salary is greater than or equal to $4000. \n",
    "spark.sql(\"select JOB_ID, max(SALARY) from employees group by JOB_ID having max(SALARY) >= 4000\").show()\n",
    "# spark.sql(\"select JOB_ID, max(SALARY) from employees where max(SALARY) >= 4000 group by JOB_ID \").show()"
   ]
  },
  {
   "cell_type": "code",
   "execution_count": 166,
   "metadata": {},
   "outputs": [
    {
     "name": "stdout",
     "output_type": "stream",
     "text": [
      "+----------+-----------+\n",
      "|    JOB_ID|max(SALARY)|\n",
      "+----------+-----------+\n",
      "|FI_ACCOUNT|     9000.0|\n",
      "|    MK_MAN|    13000.0|\n",
      "|   IT_PROG|     9000.0|\n",
      "|    FI_MGR|    12000.0|\n",
      "|AC_ACCOUNT|     8300.0|\n",
      "|    HR_REP|     6500.0|\n",
      "|    AC_MGR|    12000.0|\n",
      "|    PR_REP|    10000.0|\n",
      "|    ST_MAN|     8200.0|\n",
      "|    MK_REP|     6000.0|\n",
      "|    SA_REP|    11500.0|\n",
      "|    SA_MAN|    14000.0|\n",
      "|    PU_MAN|    11000.0|\n",
      "|  SH_CLERK|     4200.0|\n",
      "|   AD_PRES|    24000.0|\n",
      "|   AD_ASST|     4400.0|\n",
      "|     AD_VP|    17000.0|\n",
      "+----------+-----------+\n",
      "\n"
     ]
    }
   ],
   "source": [
    "employees.groupBy(\"JOB_ID\").agg(max('SALARY')).filter(col(\"max(SALARY)\")> 4000).show()"
   ]
  },
  {
   "cell_type": "code",
   "execution_count": 168,
   "metadata": {},
   "outputs": [
    {
     "name": "stdout",
     "output_type": "stream",
     "text": [
      "+------------------+-------------+\n",
      "|       avg(SALARY)|DEPARTMENT_ID|\n",
      "+------------------+-------------+\n",
      "| 8955.882352941177|           80|\n",
      "|3475.5555555555557|           50|\n",
      "+------------------+-------------+\n",
      "\n"
     ]
    }
   ],
   "source": [
    "# 14. Write a query to get the average salary for all departments employing more than 10 employees. \n",
    "spark.sql(\"select avg(SALARY),DEPARTMENT_ID from employees \\\n",
    "          group by DEPARTMENT_ID having count(DEPARTMENT_ID) > 10\").show()\n"
   ]
  },
  {
   "cell_type": "code",
   "execution_count": 175,
   "metadata": {},
   "outputs": [
    {
     "name": "stdout",
     "output_type": "stream",
     "text": [
      "+-------------+------------------+\n",
      "|DEPARTMENT_ID|       avg(SALARY)|\n",
      "+-------------+------------------+\n",
      "|           80| 8955.882352941177|\n",
      "|           50|3475.5555555555557|\n",
      "+-------------+------------------+\n",
      "\n"
     ]
    }
   ],
   "source": [
    "employees.groupBy(\"DEPARTMENT_ID\").agg(avg(\"SALARY\"), count(\"DEPARTMENT_ID\")) \\\n",
    ".filter(col(\"count(DEPARTMENT_ID)\") > 10 ).drop(\"count(DEPARTMENT_ID)\").show()"
   ]
  },
  {
   "cell_type": "code",
   "execution_count": null,
   "metadata": {},
   "outputs": [],
   "source": []
  }
 ],
 "metadata": {
  "kernelspec": {
   "display_name": "Python 3",
   "language": "python",
   "name": "python3"
  },
  "language_info": {
   "codemirror_mode": {
    "name": "ipython",
    "version": 3
   },
   "file_extension": ".py",
   "mimetype": "text/x-python",
   "name": "python",
   "nbconvert_exporter": "python",
   "pygments_lexer": "ipython3",
   "version": "3.6.8"
  }
 },
 "nbformat": 4,
 "nbformat_minor": 2
}
