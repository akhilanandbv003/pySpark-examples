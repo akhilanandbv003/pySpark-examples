{
 "cells": [
  {
   "cell_type": "code",
   "execution_count": 4,
   "metadata": {},
   "outputs": [],
   "source": [
    "df=spark.read.csv(\"airports.txt\")"
   ]
  },
  {
   "cell_type": "code",
   "execution_count": 5,
   "metadata": {},
   "outputs": [
    {
     "name": "stdout",
     "output_type": "stream",
     "text": [
      "+----+--------------------+-----------+-------------+----+----+---------+-----------+----+---+----+-------------------+\n",
      "| _c0|                 _c1|        _c2|          _c3| _c4| _c5|      _c6|        _c7| _c8|_c9|_c10|               _c11|\n",
      "+----+--------------------+-----------+-------------+----+----+---------+-----------+----+---+----+-------------------+\n",
      "|1642|           Vila Real|  Vila Real|     Portugal| VRL|LPVR|41.274334|  -7.720472|1805|  0|   E|      Europe/Lisbon|\n",
      "|1643|               Viseu|      Viseu|     Portugal|null|LPVZ|40.725539|  -7.888992|2060|  0|   E|      Europe/Lisbon|\n",
      "|6883|Eastern Oregon Re...|  Pendleton|United States| PDT|KPDT|   45.695|-118.841389|1497| -8|   A|America/Los_Angeles|\n",
      "|6882|      Tyonek Airport|     Tyonek|United States| TYE|  \\N|61.076667|-151.138056| 110| -9|   A|  America/Anchorage|\n",
      "|6881|   Riverton Regional|Riverton WY|United States| RIW|KRIW|43.064167|-108.459722|5525| -7|   A|     America/Denver|\n",
      "|1718|               Imsik|     Bodrum|       Turkey| BXN|LTBV|37.140144|  27.669717| 202|  2|   E|    Europe/Istanbul|\n",
      "|6880|Montrose Regional...|Montrose CO|United States| MTJ|KMTJ|38.509794|-107.894242|5759| -7|   A|     America/Denver|\n",
      "+----+--------------------+-----------+-------------+----+----+---------+-----------+----+---+----+-------------------+\n",
      "\n"
     ]
    },
    {
     "data": {
      "text/plain": [
       "7"
      ]
     },
     "execution_count": 5,
     "metadata": {},
     "output_type": "execute_result"
    }
   ],
   "source": [
    "df.show()\n",
    "df.count()"
   ]
  },
  {
   "cell_type": "code",
   "execution_count": 6,
   "metadata": {},
   "outputs": [
    {
     "name": "stdout",
     "output_type": "stream",
     "text": [
      "root\n",
      " |-- _c0: string (nullable = true)\n",
      " |-- _c1: string (nullable = true)\n",
      " |-- _c2: string (nullable = true)\n",
      " |-- _c3: string (nullable = true)\n",
      " |-- _c4: string (nullable = true)\n",
      " |-- _c5: string (nullable = true)\n",
      " |-- _c6: string (nullable = true)\n",
      " |-- _c7: string (nullable = true)\n",
      " |-- _c8: string (nullable = true)\n",
      " |-- _c9: string (nullable = true)\n",
      " |-- _c10: string (nullable = true)\n",
      " |-- _c11: string (nullable = true)\n",
      "\n"
     ]
    }
   ],
   "source": [
    "df.printSchema()"
   ]
  },
  {
   "cell_type": "code",
   "execution_count": 7,
   "metadata": {},
   "outputs": [
    {
     "name": "stdout",
     "output_type": "stream",
     "text": [
      "+-------------+\n",
      "|          _c3|\n",
      "+-------------+\n",
      "|     Portugal|\n",
      "|     Portugal|\n",
      "|United States|\n",
      "|United States|\n",
      "|United States|\n",
      "|       Turkey|\n",
      "|United States|\n",
      "+-------------+\n",
      "\n"
     ]
    }
   ],
   "source": [
    "df.select(\"_c3\").show()"
   ]
  },
  {
   "cell_type": "code",
   "execution_count": 15,
   "metadata": {},
   "outputs": [
    {
     "name": "stdout",
     "output_type": "stream",
     "text": [
      "+-------------+---------+---------+\n",
      "|      Country|      lat|    lat+1|\n",
      "+-------------+---------+---------+\n",
      "|     Portugal|41.274334|42.274334|\n",
      "|     Portugal|40.725539|41.725539|\n",
      "|United States|   45.695|   46.695|\n",
      "|United States|61.076667|62.076667|\n",
      "|United States|43.064167|44.064167|\n",
      "|       Turkey|37.140144|38.140144|\n",
      "|United States|38.509794|39.509794|\n",
      "+-------------+---------+---------+\n",
      "\n"
     ]
    }
   ],
   "source": [
    "df.select(df['_c3'].alias(\"Country\"),\n",
    "          df['_c6'].alias(\"lat\"),\n",
    "          (df['_c6'] +1).alias(\"lat+1\") ).show()"
   ]
  },
  {
   "cell_type": "code",
   "execution_count": 14,
   "metadata": {},
   "outputs": [
    {
     "name": "stdout",
     "output_type": "stream",
     "text": [
      "+----+--------------------+-----------+-------------+---+----+---------+-----------+----+---+----+-------------------+\n",
      "| _c0|                 _c1|        _c2|          _c3|_c4| _c5|      _c6|        _c7| _c8|_c9|_c10|               _c11|\n",
      "+----+--------------------+-----------+-------------+---+----+---------+-----------+----+---+----+-------------------+\n",
      "|6883|Eastern Oregon Re...|  Pendleton|United States|PDT|KPDT|   45.695|-118.841389|1497| -8|   A|America/Los_Angeles|\n",
      "|6882|      Tyonek Airport|     Tyonek|United States|TYE|  \\N|61.076667|-151.138056| 110| -9|   A|  America/Anchorage|\n",
      "|6881|   Riverton Regional|Riverton WY|United States|RIW|KRIW|43.064167|-108.459722|5525| -7|   A|     America/Denver|\n",
      "|6880|Montrose Regional...|Montrose CO|United States|MTJ|KMTJ|38.509794|-107.894242|5759| -7|   A|     America/Denver|\n",
      "+----+--------------------+-----------+-------------+---+----+---------+-----------+----+---+----+-------------------+\n",
      "\n"
     ]
    }
   ],
   "source": [
    "df.filter(df['_c3'] == \"United States\").show()"
   ]
  },
  {
   "cell_type": "code",
   "execution_count": 13,
   "metadata": {},
   "outputs": [
    {
     "name": "stdout",
     "output_type": "stream",
     "text": [
      "+----+--------------------+-----------+-------------+---+----+---------+-----------+----+---+----+-------------------+\n",
      "| _c0|                 _c1|        _c2|          _c3|_c4| _c5|      _c6|        _c7| _c8|_c9|_c10|               _c11|\n",
      "+----+--------------------+-----------+-------------+---+----+---------+-----------+----+---+----+-------------------+\n",
      "|1642|           Vila Real|  Vila Real|     Portugal|VRL|LPVR|41.274334|  -7.720472|1805|  0|   E|      Europe/Lisbon|\n",
      "|6883|Eastern Oregon Re...|  Pendleton|United States|PDT|KPDT|   45.695|-118.841389|1497| -8|   A|America/Los_Angeles|\n",
      "|6882|      Tyonek Airport|     Tyonek|United States|TYE|  \\N|61.076667|-151.138056| 110| -9|   A|  America/Anchorage|\n",
      "|6881|   Riverton Regional|Riverton WY|United States|RIW|KRIW|43.064167|-108.459722|5525| -7|   A|     America/Denver|\n",
      "+----+--------------------+-----------+-------------+---+----+---------+-----------+----+---+----+-------------------+\n",
      "\n"
     ]
    }
   ],
   "source": [
    "df.filter(df['_c6'] > 40).show()"
   ]
  },
  {
   "cell_type": "code",
   "execution_count": null,
   "metadata": {},
   "outputs": [],
   "source": []
  }
 ],
 "metadata": {
  "kernelspec": {
   "display_name": "Python 3",
   "language": "python",
   "name": "python3"
  },
  "language_info": {
   "codemirror_mode": {
    "name": "ipython",
    "version": 3
   },
   "file_extension": ".py",
   "mimetype": "text/x-python",
   "name": "python",
   "nbconvert_exporter": "python",
   "pygments_lexer": "ipython3",
   "version": "3.6.8"
  }
 },
 "nbformat": 4,
 "nbformat_minor": 2
}
